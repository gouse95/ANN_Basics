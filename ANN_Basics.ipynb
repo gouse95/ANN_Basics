{
  "nbformat": 4,
  "nbformat_minor": 0,
  "metadata": {
    "colab": {
      "name": "ANN_Basics.ipynb",
      "provenance": [],
      "authorship_tag": "ABX9TyPLPtMFm7tbD6obWhXeg+1x",
      "include_colab_link": true
    },
    "kernelspec": {
      "name": "python3",
      "display_name": "Python 3"
    },
    "language_info": {
      "name": "python"
    },
    "accelerator": "GPU"
  },
  "cells": [
    {
      "cell_type": "markdown",
      "metadata": {
        "id": "view-in-github",
        "colab_type": "text"
      },
      "source": [
        "<a href=\"https://colab.research.google.com/github/gouse95/ANN_Basics/blob/main/ANN_Basics.ipynb\" target=\"_parent\"><img src=\"https://colab.research.google.com/assets/colab-badge.svg\" alt=\"Open In Colab\"/></a>"
      ]
    },
    {
      "cell_type": "code",
      "metadata": {
        "id": "uuhQtIEgZzQQ"
      },
      "source": [
        "import tensorflow as tf"
      ],
      "execution_count": 48,
      "outputs": []
    },
    {
      "cell_type": "code",
      "metadata": {
        "colab": {
          "base_uri": "https://localhost:8080/",
          "height": 35
        },
        "id": "OcY2Ja6cahTx",
        "outputId": "94ccc307-2687-410b-e8cf-8707af659580"
      },
      "source": [
        "tf.__version__"
      ],
      "execution_count": 49,
      "outputs": [
        {
          "output_type": "execute_result",
          "data": {
            "application/vnd.google.colaboratory.intrinsic+json": {
              "type": "string"
            },
            "text/plain": [
              "'2.6.0'"
            ]
          },
          "metadata": {},
          "execution_count": 49
        }
      ]
    },
    {
      "cell_type": "code",
      "metadata": {
        "colab": {
          "base_uri": "https://localhost:8080/",
          "height": 35
        },
        "id": "0ETL26icat0r",
        "outputId": "7b8092dc-b380-4e49-e91e-713b43f665da"
      },
      "source": [
        "tf.keras.__version__"
      ],
      "execution_count": 50,
      "outputs": [
        {
          "output_type": "execute_result",
          "data": {
            "application/vnd.google.colaboratory.intrinsic+json": {
              "type": "string"
            },
            "text/plain": [
              "'2.6.0'"
            ]
          },
          "metadata": {},
          "execution_count": 50
        }
      ]
    },
    {
      "cell_type": "code",
      "metadata": {
        "colab": {
          "base_uri": "https://localhost:8080/"
        },
        "id": "FDXKBpAta5aK",
        "outputId": "1238e933-da2e-4966-c501-e96cde3cd9d0"
      },
      "source": [
        "tf.config.list_physical_devices(\"GPU\")"
      ],
      "execution_count": 51,
      "outputs": [
        {
          "output_type": "execute_result",
          "data": {
            "text/plain": [
              "[PhysicalDevice(name='/physical_device:GPU:0', device_type='GPU')]"
            ]
          },
          "metadata": {},
          "execution_count": 51
        }
      ]
    },
    {
      "cell_type": "code",
      "metadata": {
        "colab": {
          "base_uri": "https://localhost:8080/"
        },
        "id": "cpzgnF_za7ue",
        "outputId": "7c69d708-54ec-4c89-d450-1dff4225165b"
      },
      "source": [
        "tf.config.list_physical_devices(\"CPU\")"
      ],
      "execution_count": 52,
      "outputs": [
        {
          "output_type": "execute_result",
          "data": {
            "text/plain": [
              "[PhysicalDevice(name='/physical_device:CPU:0', device_type='CPU')]"
            ]
          },
          "metadata": {},
          "execution_count": 52
        }
      ]
    },
    {
      "cell_type": "code",
      "metadata": {
        "id": "Lds1ALQra9sZ"
      },
      "source": [
        "import numpy as np\n",
        "import matplotlib.pyplot as plt\n",
        "import pandas as pd\n",
        "import seaborn as sns"
      ],
      "execution_count": 53,
      "outputs": []
    },
    {
      "cell_type": "code",
      "metadata": {
        "id": "CawpKUCEbALt"
      },
      "source": [
        "mnist = tf.keras.datasets.mnist"
      ],
      "execution_count": 54,
      "outputs": []
    },
    {
      "cell_type": "code",
      "metadata": {
        "colab": {
          "base_uri": "https://localhost:8080/"
        },
        "id": "d9NsJYTUbCTb",
        "outputId": "05cd3abc-a4d8-41e7-c191-16398a6016c1"
      },
      "source": [
        "mnist.load_data()"
      ],
      "execution_count": 55,
      "outputs": [
        {
          "output_type": "execute_result",
          "data": {
            "text/plain": [
              "((array([[[0, 0, 0, ..., 0, 0, 0],\n",
              "          [0, 0, 0, ..., 0, 0, 0],\n",
              "          [0, 0, 0, ..., 0, 0, 0],\n",
              "          ...,\n",
              "          [0, 0, 0, ..., 0, 0, 0],\n",
              "          [0, 0, 0, ..., 0, 0, 0],\n",
              "          [0, 0, 0, ..., 0, 0, 0]],\n",
              "  \n",
              "         [[0, 0, 0, ..., 0, 0, 0],\n",
              "          [0, 0, 0, ..., 0, 0, 0],\n",
              "          [0, 0, 0, ..., 0, 0, 0],\n",
              "          ...,\n",
              "          [0, 0, 0, ..., 0, 0, 0],\n",
              "          [0, 0, 0, ..., 0, 0, 0],\n",
              "          [0, 0, 0, ..., 0, 0, 0]],\n",
              "  \n",
              "         [[0, 0, 0, ..., 0, 0, 0],\n",
              "          [0, 0, 0, ..., 0, 0, 0],\n",
              "          [0, 0, 0, ..., 0, 0, 0],\n",
              "          ...,\n",
              "          [0, 0, 0, ..., 0, 0, 0],\n",
              "          [0, 0, 0, ..., 0, 0, 0],\n",
              "          [0, 0, 0, ..., 0, 0, 0]],\n",
              "  \n",
              "         ...,\n",
              "  \n",
              "         [[0, 0, 0, ..., 0, 0, 0],\n",
              "          [0, 0, 0, ..., 0, 0, 0],\n",
              "          [0, 0, 0, ..., 0, 0, 0],\n",
              "          ...,\n",
              "          [0, 0, 0, ..., 0, 0, 0],\n",
              "          [0, 0, 0, ..., 0, 0, 0],\n",
              "          [0, 0, 0, ..., 0, 0, 0]],\n",
              "  \n",
              "         [[0, 0, 0, ..., 0, 0, 0],\n",
              "          [0, 0, 0, ..., 0, 0, 0],\n",
              "          [0, 0, 0, ..., 0, 0, 0],\n",
              "          ...,\n",
              "          [0, 0, 0, ..., 0, 0, 0],\n",
              "          [0, 0, 0, ..., 0, 0, 0],\n",
              "          [0, 0, 0, ..., 0, 0, 0]],\n",
              "  \n",
              "         [[0, 0, 0, ..., 0, 0, 0],\n",
              "          [0, 0, 0, ..., 0, 0, 0],\n",
              "          [0, 0, 0, ..., 0, 0, 0],\n",
              "          ...,\n",
              "          [0, 0, 0, ..., 0, 0, 0],\n",
              "          [0, 0, 0, ..., 0, 0, 0],\n",
              "          [0, 0, 0, ..., 0, 0, 0]]], dtype=uint8),\n",
              "  array([5, 0, 4, ..., 5, 6, 8], dtype=uint8)),\n",
              " (array([[[0, 0, 0, ..., 0, 0, 0],\n",
              "          [0, 0, 0, ..., 0, 0, 0],\n",
              "          [0, 0, 0, ..., 0, 0, 0],\n",
              "          ...,\n",
              "          [0, 0, 0, ..., 0, 0, 0],\n",
              "          [0, 0, 0, ..., 0, 0, 0],\n",
              "          [0, 0, 0, ..., 0, 0, 0]],\n",
              "  \n",
              "         [[0, 0, 0, ..., 0, 0, 0],\n",
              "          [0, 0, 0, ..., 0, 0, 0],\n",
              "          [0, 0, 0, ..., 0, 0, 0],\n",
              "          ...,\n",
              "          [0, 0, 0, ..., 0, 0, 0],\n",
              "          [0, 0, 0, ..., 0, 0, 0],\n",
              "          [0, 0, 0, ..., 0, 0, 0]],\n",
              "  \n",
              "         [[0, 0, 0, ..., 0, 0, 0],\n",
              "          [0, 0, 0, ..., 0, 0, 0],\n",
              "          [0, 0, 0, ..., 0, 0, 0],\n",
              "          ...,\n",
              "          [0, 0, 0, ..., 0, 0, 0],\n",
              "          [0, 0, 0, ..., 0, 0, 0],\n",
              "          [0, 0, 0, ..., 0, 0, 0]],\n",
              "  \n",
              "         ...,\n",
              "  \n",
              "         [[0, 0, 0, ..., 0, 0, 0],\n",
              "          [0, 0, 0, ..., 0, 0, 0],\n",
              "          [0, 0, 0, ..., 0, 0, 0],\n",
              "          ...,\n",
              "          [0, 0, 0, ..., 0, 0, 0],\n",
              "          [0, 0, 0, ..., 0, 0, 0],\n",
              "          [0, 0, 0, ..., 0, 0, 0]],\n",
              "  \n",
              "         [[0, 0, 0, ..., 0, 0, 0],\n",
              "          [0, 0, 0, ..., 0, 0, 0],\n",
              "          [0, 0, 0, ..., 0, 0, 0],\n",
              "          ...,\n",
              "          [0, 0, 0, ..., 0, 0, 0],\n",
              "          [0, 0, 0, ..., 0, 0, 0],\n",
              "          [0, 0, 0, ..., 0, 0, 0]],\n",
              "  \n",
              "         [[0, 0, 0, ..., 0, 0, 0],\n",
              "          [0, 0, 0, ..., 0, 0, 0],\n",
              "          [0, 0, 0, ..., 0, 0, 0],\n",
              "          ...,\n",
              "          [0, 0, 0, ..., 0, 0, 0],\n",
              "          [0, 0, 0, ..., 0, 0, 0],\n",
              "          [0, 0, 0, ..., 0, 0, 0]]], dtype=uint8),\n",
              "  array([7, 2, 1, ..., 4, 5, 6], dtype=uint8)))"
            ]
          },
          "metadata": {},
          "execution_count": 55
        }
      ]
    },
    {
      "cell_type": "code",
      "metadata": {
        "id": "GKk_BTtPch8r"
      },
      "source": [
        "(X_train_full, y_train_full),(X_test, y_test)=mnist.load_data()"
      ],
      "execution_count": 56,
      "outputs": []
    },
    {
      "cell_type": "code",
      "metadata": {
        "colab": {
          "base_uri": "https://localhost:8080/"
        },
        "id": "aKltvfowdIGQ",
        "outputId": "39d0daf8-9aac-4be9-f71d-07eb78f885c2"
      },
      "source": [
        "X_train_full.shape"
      ],
      "execution_count": 57,
      "outputs": [
        {
          "output_type": "execute_result",
          "data": {
            "text/plain": [
              "(60000, 28, 28)"
            ]
          },
          "metadata": {},
          "execution_count": 57
        }
      ]
    },
    {
      "cell_type": "code",
      "metadata": {
        "colab": {
          "base_uri": "https://localhost:8080/",
          "height": 248
        },
        "id": "FC0Bi6podLan",
        "outputId": "75a3b43a-e1e3-494d-8832-6ffd7f5ee383"
      },
      "source": [
        "img = X_train_full[0]\n",
        "plt.imshow(img, cmap=\"binary\")\n",
        "plt.axis(\"off\")\n",
        "plt.show()"
      ],
      "execution_count": 58,
      "outputs": [
        {
          "output_type": "display_data",
          "data": {
            "image/png": "[encoded data removed]",
            "text/plain": [
              "<Figure size 432x288 with 1 Axes>"
            ]
          },
          "metadata": {
            "needs_background": "light"
          }
        }
      ]
    },
    {
      "cell_type": "code",
      "metadata": {
        "colab": {
          "base_uri": "https://localhost:8080/",
          "height": 884
        },
        "id": "XZgmWZR3dS96",
        "outputId": "22c2a349-c658-46d3-c528-a28fed85f5ce"
      },
      "source": [
        "plt.figure(figsize=(15,15))\n",
        "sns.heatmap(img/255, annot=True,cmap=\"binary\")"
      ],
      "execution_count": 59,
      "outputs": [
        {
          "output_type": "execute_result",
          "data": {
            "text/plain": [
              "<matplotlib.axes._subplots.AxesSubplot at 0x7ff1595907d0>"
            ]
          },
          "metadata": {},
          "execution_count": 59
        },
        {
          "output_type": "display_data",
          "data": {
            "image/png": "[encoded data removed]",
            "text/plain": [
              "<Figure size 1080x1080 with 2 Axes>"
            ]
          },
          "metadata": {
            "needs_background": "light"
          }
        }
      ]
    },
    {
      "cell_type": "code",
      "metadata": {
        "colab": {
          "base_uri": "https://localhost:8080/"
        },
        "id": "VIqKoCx2eZaQ",
        "outputId": "8751ef32-63bc-4e85-d58a-2c3f73c05261"
      },
      "source": [
        " X_test.shape"
      ],
      "execution_count": 60,
      "outputs": [
        {
          "output_type": "execute_result",
          "data": {
            "text/plain": [
              "(10000, 28, 28)"
            ]
          },
          "metadata": {},
          "execution_count": 60
        }
      ]
    },
    {
      "cell_type": "code",
      "metadata": {
        "id": "ZwZLGksQfvMz"
      },
      "source": [
        "X_valid, X_train = X_train_full[:5000] / 255.,X_train_full[5000:]/255\n",
        "y_valid, y_train = y_train_full[:5000], y_train_full[5000:]\n",
        "\n",
        "X_test =X_test/255"
      ],
      "execution_count": 61,
      "outputs": []
    },
    {
      "cell_type": "code",
      "metadata": {
        "id": "KSIYrvLni59V"
      },
      "source": [
        "LAYERS = [\n",
        "          tf.keras.layers.Flatten(input_shape=[28,28],name=\"InputLayer\"),\n",
        "          tf.keras.layers.Dense(300,activation=\"relu\",name=\"HiddenLayer1\"),\n",
        "          tf.keras.layers.Dense(100,activation=\"relu\",name=\"HiddenLayer2\"),\n",
        "          tf.keras.layers.Dense(10,activation=\"softmax\",name=\"OutputLayer\")\n",
        "]"
      ],
      "execution_count": 62,
      "outputs": []
    },
    {
      "cell_type": "code",
      "metadata": {
        "id": "-yVTRRjonXTM"
      },
      "source": [
        "model_clf =tf.keras.models.Sequential(LAYERS)"
      ],
      "execution_count": 63,
      "outputs": []
    },
    {
      "cell_type": "code",
      "metadata": {
        "colab": {
          "base_uri": "https://localhost:8080/"
        },
        "id": "tuoaaw5TnsVC",
        "outputId": "61f99083-eedc-479b-a48c-784e4731f3a7"
      },
      "source": [
        "model_clf.layers"
      ],
      "execution_count": 64,
      "outputs": [
        {
          "output_type": "execute_result",
          "data": {
            "text/plain": [
              "[<keras.layers.core.Flatten at 0x7ff156872d90>,\n",
              " <keras.layers.core.Dense at 0x7ff156872890>,\n",
              " <keras.layers.core.Dense at 0x7ff1567097d0>,\n",
              " <keras.layers.core.Dense at 0x7ff1567091d0>]"
            ]
          },
          "metadata": {},
          "execution_count": 64
        }
      ]
    },
    {
      "cell_type": "code",
      "metadata": {
        "colab": {
          "base_uri": "https://localhost:8080/"
        },
        "id": "JonGU2hRoA8O",
        "outputId": "37ca528d-da7e-4533-f137-af652b90d928"
      },
      "source": [
        "model_clf.summary()"
      ],
      "execution_count": 65,
      "outputs": [
        {
          "output_type": "stream",
          "name": "stdout",
          "text": [
            "Model: \"sequential_1\"\n",
            "_________________________________________________________________\n",
            "Layer (type)                 Output Shape              Param #   \n",
            "=================================================================\n",
            "InputLayer (Flatten)         (None, 784)               0         \n",
            "_________________________________________________________________\n",
            "HiddenLayer1 (Dense)         (None, 300)               235500    \n",
            "_________________________________________________________________\n",
            "HiddenLayer2 (Dense)         (None, 100)               30100     \n",
            "_________________________________________________________________\n",
            "OutputLayer (Dense)          (None, 10)                1010      \n",
            "=================================================================\n",
            "Total params: 266,610\n",
            "Trainable params: 266,610\n",
            "Non-trainable params: 0\n",
            "_________________________________________________________________\n"
          ]
        }
      ]
    },
    {
      "cell_type": "code",
      "metadata": {
        "id": "xA6CMcTxoIC3"
      },
      "source": [
        ""
      ],
      "execution_count": 65,
      "outputs": []
    },
    {
      "cell_type": "code",
      "metadata": {
        "colab": {
          "base_uri": "https://localhost:8080/"
        },
        "id": "qF9OfC2Mgyq7",
        "outputId": "8af7f772-24b9-4bf5-b0e2-a40063afa58b"
      },
      "source": [
        "# firstlayer * secondlayer + bias\n",
        "\n",
        "784*300+300, 300*100+100, 100*10+10"
      ],
      "execution_count": 66,
      "outputs": [
        {
          "output_type": "execute_result",
          "data": {
            "text/plain": [
              "(235500, 30100, 1010)"
            ]
          },
          "metadata": {},
          "execution_count": 66
        }
      ]
    },
    {
      "cell_type": "code",
      "metadata": {
        "colab": {
          "base_uri": "https://localhost:8080/",
          "height": 35
        },
        "id": "NmJ1lygGiLL7",
        "outputId": "405cf583-3751-4c39-e0c4-327554b66db9"
      },
      "source": [
        "model_clf.layers[1].name"
      ],
      "execution_count": 67,
      "outputs": [
        {
          "output_type": "execute_result",
          "data": {
            "application/vnd.google.colaboratory.intrinsic+json": {
              "type": "string"
            },
            "text/plain": [
              "'HiddenLayer1'"
            ]
          },
          "metadata": {},
          "execution_count": 67
        }
      ]
    },
    {
      "cell_type": "code",
      "metadata": {
        "id": "ENpwevCWty1i"
      },
      "source": [
        "weights,biases=model_clf.layers[1].get_weights()"
      ],
      "execution_count": 68,
      "outputs": []
    },
    {
      "cell_type": "code",
      "metadata": {
        "colab": {
          "base_uri": "https://localhost:8080/"
        },
        "id": "NAPHUynHuAIm",
        "outputId": "d1e647ea-6a4c-48be-a3ee-7e17de6b1df3"
      },
      "source": [
        "weights.shape"
      ],
      "execution_count": 69,
      "outputs": [
        {
          "output_type": "execute_result",
          "data": {
            "text/plain": [
              "(784, 300)"
            ]
          },
          "metadata": {},
          "execution_count": 69
        }
      ]
    },
    {
      "cell_type": "code",
      "metadata": {
        "colab": {
          "base_uri": "https://localhost:8080/"
        },
        "id": "sSVthxh-uHeP",
        "outputId": "95a2b312-313e-492e-fca1-7a3054f867cf"
      },
      "source": [
        "biases.shape"
      ],
      "execution_count": 70,
      "outputs": [
        {
          "output_type": "execute_result",
          "data": {
            "text/plain": [
              "(300,)"
            ]
          },
          "metadata": {},
          "execution_count": 70
        }
      ]
    },
    {
      "cell_type": "code",
      "metadata": {
        "id": "LAIvc7IxuLqI"
      },
      "source": [
        "LOSS_FUNCTION=\"sparse_categorical_crossentropy\"\n",
        "OPTIMIZER=\"SGD\"\n",
        "METRICS=[\"accuracy\"]\n",
        "model_clf.compile(loss=LOSS_FUNCTION, optimizer=OPTIMIZER,metrics=METRICS)"
      ],
      "execution_count": 71,
      "outputs": []
    },
    {
      "cell_type": "code",
      "metadata": {
        "colab": {
          "base_uri": "https://localhost:8080/"
        },
        "id": "51vIFmWsu20P",
        "outputId": "a384354f-fdab-46dd-b9a5-c4094ff353bc"
      },
      "source": [
        "EPOCHS=30\n",
        "VALIDATION=(X_valid,y_valid)\n",
        "\n",
        "history=model_clf.fit(X_train,y_train,epochs=EPOCHS,validation_data=VALIDATION)"
      ],
      "execution_count": 72,
      "outputs": [
        {
          "output_type": "stream",
          "name": "stdout",
          "text": [
            "Epoch 1/30\n",
            "1719/1719 [==============================] - 6s 3ms/step - loss: 0.6170 - accuracy: 0.8429 - val_loss: 0.3120 - val_accuracy: 0.9172\n",
            "Epoch 2/30\n",
            "1719/1719 [==============================] - 5s 3ms/step - loss: 0.2910 - accuracy: 0.9168 - val_loss: 0.2445 - val_accuracy: 0.9322\n",
            "Epoch 3/30\n",
            "1719/1719 [==============================] - 5s 3ms/step - loss: 0.2385 - accuracy: 0.9322 - val_loss: 0.2095 - val_accuracy: 0.9422\n",
            "Epoch 4/30\n",
            "1719/1719 [==============================] - 5s 3ms/step - loss: 0.2035 - accuracy: 0.9421 - val_loss: 0.1795 - val_accuracy: 0.9516\n",
            "Epoch 5/30\n",
            "1719/1719 [==============================] - 5s 3ms/step - loss: 0.1780 - accuracy: 0.9495 - val_loss: 0.1623 - val_accuracy: 0.9558\n",
            "Epoch 6/30\n",
            "1719/1719 [==============================] - 6s 3ms/step - loss: 0.1578 - accuracy: 0.9554 - val_loss: 0.1459 - val_accuracy: 0.9616\n",
            "Epoch 7/30\n",
            "1719/1719 [==============================] - 5s 3ms/step - loss: 0.1414 - accuracy: 0.9596 - val_loss: 0.1345 - val_accuracy: 0.9658\n",
            "Epoch 8/30\n",
            "1719/1719 [==============================] - 5s 3ms/step - loss: 0.1276 - accuracy: 0.9637 - val_loss: 0.1255 - val_accuracy: 0.9670\n",
            "Epoch 9/30\n",
            "1719/1719 [==============================] - 5s 3ms/step - loss: 0.1156 - accuracy: 0.9671 - val_loss: 0.1156 - val_accuracy: 0.9694\n",
            "Epoch 10/30\n",
            "1719/1719 [==============================] - 6s 3ms/step - loss: 0.1057 - accuracy: 0.9695 - val_loss: 0.1088 - val_accuracy: 0.9698\n",
            "Epoch 11/30\n",
            "1719/1719 [==============================] - 5s 3ms/step - loss: 0.0973 - accuracy: 0.9725 - val_loss: 0.1051 - val_accuracy: 0.9716\n",
            "Epoch 12/30\n",
            "1719/1719 [==============================] - 5s 3ms/step - loss: 0.0896 - accuracy: 0.9749 - val_loss: 0.1026 - val_accuracy: 0.9724\n",
            "Epoch 13/30\n",
            "1719/1719 [==============================] - 5s 3ms/step - loss: 0.0829 - accuracy: 0.9766 - val_loss: 0.0953 - val_accuracy: 0.9740\n",
            "Epoch 14/30\n",
            "1719/1719 [==============================] - 6s 3ms/step - loss: 0.0769 - accuracy: 0.9786 - val_loss: 0.0904 - val_accuracy: 0.9746\n",
            "Epoch 15/30\n",
            "1719/1719 [==============================] - 6s 3ms/step - loss: 0.0716 - accuracy: 0.9799 - val_loss: 0.0884 - val_accuracy: 0.9760\n",
            "Epoch 16/30\n",
            "1719/1719 [==============================] - 6s 3ms/step - loss: 0.0669 - accuracy: 0.9813 - val_loss: 0.0857 - val_accuracy: 0.9766\n",
            "Epoch 17/30\n",
            "1719/1719 [==============================] - 6s 3ms/step - loss: 0.0622 - accuracy: 0.9827 - val_loss: 0.0836 - val_accuracy: 0.9764\n",
            "Epoch 18/30\n",
            "1719/1719 [==============================] - 6s 3ms/step - loss: 0.0584 - accuracy: 0.9842 - val_loss: 0.0791 - val_accuracy: 0.9772\n",
            "Epoch 19/30\n",
            "1719/1719 [==============================] - 5s 3ms/step - loss: 0.0547 - accuracy: 0.9852 - val_loss: 0.0793 - val_accuracy: 0.9772\n",
            "Epoch 20/30\n",
            "1719/1719 [==============================] - 5s 3ms/step - loss: 0.0514 - accuracy: 0.9861 - val_loss: 0.0799 - val_accuracy: 0.9762\n",
            "Epoch 21/30\n",
            "1719/1719 [==============================] - 5s 3ms/step - loss: 0.0479 - accuracy: 0.9877 - val_loss: 0.0757 - val_accuracy: 0.9778\n",
            "Epoch 22/30\n",
            "1719/1719 [==============================] - 5s 3ms/step - loss: 0.0449 - accuracy: 0.9885 - val_loss: 0.0758 - val_accuracy: 0.9766\n",
            "Epoch 23/30\n",
            "1719/1719 [==============================] - 5s 3ms/step - loss: 0.0426 - accuracy: 0.9893 - val_loss: 0.0741 - val_accuracy: 0.9784\n",
            "Epoch 24/30\n",
            "1719/1719 [==============================] - 5s 3ms/step - loss: 0.0400 - accuracy: 0.9900 - val_loss: 0.0729 - val_accuracy: 0.9788\n",
            "Epoch 25/30\n",
            "1719/1719 [==============================] - 5s 3ms/step - loss: 0.0375 - accuracy: 0.9902 - val_loss: 0.0729 - val_accuracy: 0.9788\n",
            "Epoch 26/30\n",
            "1719/1719 [==============================] - 5s 3ms/step - loss: 0.0355 - accuracy: 0.9908 - val_loss: 0.0742 - val_accuracy: 0.9790\n",
            "Epoch 27/30\n",
            "1719/1719 [==============================] - 5s 3ms/step - loss: 0.0332 - accuracy: 0.9921 - val_loss: 0.0713 - val_accuracy: 0.9784\n",
            "Epoch 28/30\n",
            "1719/1719 [==============================] - 5s 3ms/step - loss: 0.0314 - accuracy: 0.9927 - val_loss: 0.0765 - val_accuracy: 0.9772\n",
            "Epoch 29/30\n",
            "1719/1719 [==============================] - 5s 3ms/step - loss: 0.0296 - accuracy: 0.9932 - val_loss: 0.0722 - val_accuracy: 0.9786\n",
            "Epoch 30/30\n",
            "1719/1719 [==============================] - 5s 3ms/step - loss: 0.0280 - accuracy: 0.9935 - val_loss: 0.0716 - val_accuracy: 0.9786\n"
          ]
        }
      ]
    },
    {
      "cell_type": "code",
      "metadata": {
        "colab": {
          "base_uri": "https://localhost:8080/"
        },
        "id": "D3r6pjhvvN2d",
        "outputId": "6fc4636c-acb8-47f8-c738-da0accb08dba"
      },
      "source": [
        "history.params"
      ],
      "execution_count": 73,
      "outputs": [
        {
          "output_type": "execute_result",
          "data": {
            "text/plain": [
              "{'epochs': 30, 'steps': 1719, 'verbose': 1}"
            ]
          },
          "metadata": {},
          "execution_count": 73
        }
      ]
    },
    {
      "cell_type": "code",
      "metadata": {
        "colab": {
          "base_uri": "https://localhost:8080/"
        },
        "id": "j-TMjHXu4Epo",
        "outputId": "9e096fec-788b-4681-b040-5bb875411515"
      },
      "source": [
        "history.history"
      ],
      "execution_count": 74,
      "outputs": [
        {
          "output_type": "execute_result",
          "data": {
            "text/plain": [
              "{'accuracy': [0.8429272770881653,\n",
              "  0.9167818427085876,\n",
              "  0.9321818351745605,\n",
              "  0.9420545697212219,\n",
              "  0.9494909048080444,\n",
              "  0.9554181694984436,\n",
              "  0.9595999717712402,\n",
              "  0.9636545181274414,\n",
              "  0.9671090841293335,\n",
              "  0.9695272445678711,\n",
              "  0.9725090861320496,\n",
              "  0.9748727083206177,\n",
              "  0.9765636324882507,\n",
              "  0.9785636067390442,\n",
              "  0.9798545241355896,\n",
              "  0.9813272953033447,\n",
              "  0.9826727509498596,\n",
              "  0.9842363595962524,\n",
              "  0.9851636290550232,\n",
              "  0.9861090779304504,\n",
              "  0.987672746181488,\n",
              "  0.988490879535675,\n",
              "  0.9892545342445374,\n",
              "  0.9900363683700562,\n",
              "  0.9901999831199646,\n",
              "  0.990818202495575,\n",
              "  0.9920908808708191,\n",
              "  0.9927091002464294,\n",
              "  0.9931636452674866,\n",
              "  0.9934727549552917],\n",
              " 'loss': [0.6170014142990112,\n",
              "  0.2910059690475464,\n",
              "  0.2384977638721466,\n",
              "  0.20348592102527618,\n",
              "  0.17800123989582062,\n",
              "  0.157823383808136,\n",
              "  0.14138644933700562,\n",
              "  0.1275523602962494,\n",
              "  0.11558882147073746,\n",
              "  0.10568660497665405,\n",
              "  0.09726125001907349,\n",
              "  0.08963682502508163,\n",
              "  0.08293931186199188,\n",
              "  0.07694131880998611,\n",
              "  0.07156176120042801,\n",
              "  0.06691651046276093,\n",
              "  0.062224071472883224,\n",
              "  0.05835587531328201,\n",
              "  0.05474018678069115,\n",
              "  0.051423631608486176,\n",
              "  0.047857701778411865,\n",
              "  0.04486462473869324,\n",
              "  0.04259417578577995,\n",
              "  0.039987921714782715,\n",
              "  0.037500396370887756,\n",
              "  0.03554786741733551,\n",
              "  0.03316495567560196,\n",
              "  0.03136468678712845,\n",
              "  0.029620461165905,\n",
              "  0.028005579486489296],\n",
              " 'val_accuracy': [0.9172000288963318,\n",
              "  0.932200014591217,\n",
              "  0.9422000050544739,\n",
              "  0.9516000151634216,\n",
              "  0.9557999968528748,\n",
              "  0.9616000056266785,\n",
              "  0.9657999873161316,\n",
              "  0.9670000076293945,\n",
              "  0.9693999886512756,\n",
              "  0.9697999954223633,\n",
              "  0.9715999960899353,\n",
              "  0.9724000096321106,\n",
              "  0.9739999771118164,\n",
              "  0.9746000170707703,\n",
              "  0.9760000109672546,\n",
              "  0.9765999913215637,\n",
              "  0.9764000177383423,\n",
              "  0.9771999716758728,\n",
              "  0.9771999716758728,\n",
              "  0.9761999845504761,\n",
              "  0.9778000116348267,\n",
              "  0.9765999913215637,\n",
              "  0.9783999919891357,\n",
              "  0.9787999987602234,\n",
              "  0.9787999987602234,\n",
              "  0.9789999723434448,\n",
              "  0.9783999919891357,\n",
              "  0.9771999716758728,\n",
              "  0.978600025177002,\n",
              "  0.978600025177002],\n",
              " 'val_loss': [0.31203529238700867,\n",
              "  0.24448168277740479,\n",
              "  0.20951774716377258,\n",
              "  0.17947541177272797,\n",
              "  0.16227677464485168,\n",
              "  0.14590425789356232,\n",
              "  0.13453535735607147,\n",
              "  0.12546080350875854,\n",
              "  0.1155780553817749,\n",
              "  0.10879182070493698,\n",
              "  0.10505549609661102,\n",
              "  0.10256797820329666,\n",
              "  0.09529312700033188,\n",
              "  0.09035097807645798,\n",
              "  0.0883786529302597,\n",
              "  0.08569000661373138,\n",
              "  0.0835791602730751,\n",
              "  0.0791437104344368,\n",
              "  0.07934141159057617,\n",
              "  0.07993976771831512,\n",
              "  0.07572237402200699,\n",
              "  0.07577509433031082,\n",
              "  0.0741056278347969,\n",
              "  0.07286899536848068,\n",
              "  0.0728706419467926,\n",
              "  0.07417520135641098,\n",
              "  0.0713454857468605,\n",
              "  0.07645107060670853,\n",
              "  0.07222311943769455,\n",
              "  0.07155215740203857]}"
            ]
          },
          "metadata": {},
          "execution_count": 74
        }
      ]
    },
    {
      "cell_type": "code",
      "metadata": {
        "colab": {
          "base_uri": "https://localhost:8080/",
          "height": 990
        },
        "id": "cIHVjBj-4JHz",
        "outputId": "cbcfc98e-3581-4ddd-d2a1-f0eea30957ca"
      },
      "source": [
        "pd.DataFrame(history.history)"
      ],
      "execution_count": 75,
      "outputs": [
        {
          "output_type": "execute_result",
          "data": {
            "text/html": [
              "<div>\n",
              "<style scoped>\n",
              "    .dataframe tbody tr th:only-of-type {\n",
              "        vertical-align: middle;\n",
              "    }\n",
              "\n",
              "    .dataframe tbody tr th {\n",
              "        vertical-align: top;\n",
              "    }\n",
              "\n",
              "    .dataframe thead th {\n",
              "        text-align: right;\n",
              "    }\n",
              "</style>\n",
              "<table border=\"1\" class=\"dataframe\">\n",
              "  <thead>\n",
              "    <tr style=\"text-align: right;\">\n",
              "      <th></th>\n",
              "      <th>loss</th>\n",
              "      <th>accuracy</th>\n",
              "      <th>val_loss</th>\n",
              "      <th>val_accuracy</th>\n",
              "    </tr>\n",
              "  </thead>\n",
              "  <tbody>\n",
              "    <tr>\n",
              "      <th>0</th>\n",
              "      <td>0.617001</td>\n",
              "      <td>0.842927</td>\n",
              "      <td>0.312035</td>\n",
              "      <td>0.9172</td>\n",
              "    </tr>\n",
              "    <tr>\n",
              "      <th>1</th>\n",
              "      <td>0.291006</td>\n",
              "      <td>0.916782</td>\n",
              "      <td>0.244482</td>\n",
              "      <td>0.9322</td>\n",
              "    </tr>\n",
              "    <tr>\n",
              "      <th>2</th>\n",
              "      <td>0.238498</td>\n",
              "      <td>0.932182</td>\n",
              "      <td>0.209518</td>\n",
              "      <td>0.9422</td>\n",
              "    </tr>\n",
              "    <tr>\n",
              "      <th>3</th>\n",
              "      <td>0.203486</td>\n",
              "      <td>0.942055</td>\n",
              "      <td>0.179475</td>\n",
              "      <td>0.9516</td>\n",
              "    </tr>\n",
              "    <tr>\n",
              "      <th>4</th>\n",
              "      <td>0.178001</td>\n",
              "      <td>0.949491</td>\n",
              "      <td>0.162277</td>\n",
              "      <td>0.9558</td>\n",
              "    </tr>\n",
              "    <tr>\n",
              "      <th>5</th>\n",
              "      <td>0.157823</td>\n",
              "      <td>0.955418</td>\n",
              "      <td>0.145904</td>\n",
              "      <td>0.9616</td>\n",
              "    </tr>\n",
              "    <tr>\n",
              "      <th>6</th>\n",
              "      <td>0.141386</td>\n",
              "      <td>0.959600</td>\n",
              "      <td>0.134535</td>\n",
              "      <td>0.9658</td>\n",
              "    </tr>\n",
              "    <tr>\n",
              "      <th>7</th>\n",
              "      <td>0.127552</td>\n",
              "      <td>0.963655</td>\n",
              "      <td>0.125461</td>\n",
              "      <td>0.9670</td>\n",
              "    </tr>\n",
              "    <tr>\n",
              "      <th>8</th>\n",
              "      <td>0.115589</td>\n",
              "      <td>0.967109</td>\n",
              "      <td>0.115578</td>\n",
              "      <td>0.9694</td>\n",
              "    </tr>\n",
              "    <tr>\n",
              "      <th>9</th>\n",
              "      <td>0.105687</td>\n",
              "      <td>0.969527</td>\n",
              "      <td>0.108792</td>\n",
              "      <td>0.9698</td>\n",
              "    </tr>\n",
              "    <tr>\n",
              "      <th>10</th>\n",
              "      <td>0.097261</td>\n",
              "      <td>0.972509</td>\n",
              "      <td>0.105055</td>\n",
              "      <td>0.9716</td>\n",
              "    </tr>\n",
              "    <tr>\n",
              "      <th>11</th>\n",
              "      <td>0.089637</td>\n",
              "      <td>0.974873</td>\n",
              "      <td>0.102568</td>\n",
              "      <td>0.9724</td>\n",
              "    </tr>\n",
              "    <tr>\n",
              "      <th>12</th>\n",
              "      <td>0.082939</td>\n",
              "      <td>0.976564</td>\n",
              "      <td>0.095293</td>\n",
              "      <td>0.9740</td>\n",
              "    </tr>\n",
              "    <tr>\n",
              "      <th>13</th>\n",
              "      <td>0.076941</td>\n",
              "      <td>0.978564</td>\n",
              "      <td>0.090351</td>\n",
              "      <td>0.9746</td>\n",
              "    </tr>\n",
              "    <tr>\n",
              "      <th>14</th>\n",
              "      <td>0.071562</td>\n",
              "      <td>0.979855</td>\n",
              "      <td>0.088379</td>\n",
              "      <td>0.9760</td>\n",
              "    </tr>\n",
              "    <tr>\n",
              "      <th>15</th>\n",
              "      <td>0.066917</td>\n",
              "      <td>0.981327</td>\n",
              "      <td>0.085690</td>\n",
              "      <td>0.9766</td>\n",
              "    </tr>\n",
              "    <tr>\n",
              "      <th>16</th>\n",
              "      <td>0.062224</td>\n",
              "      <td>0.982673</td>\n",
              "      <td>0.083579</td>\n",
              "      <td>0.9764</td>\n",
              "    </tr>\n",
              "    <tr>\n",
              "      <th>17</th>\n",
              "      <td>0.058356</td>\n",
              "      <td>0.984236</td>\n",
              "      <td>0.079144</td>\n",
              "      <td>0.9772</td>\n",
              "    </tr>\n",
              "    <tr>\n",
              "      <th>18</th>\n",
              "      <td>0.054740</td>\n",
              "      <td>0.985164</td>\n",
              "      <td>0.079341</td>\n",
              "      <td>0.9772</td>\n",
              "    </tr>\n",
              "    <tr>\n",
              "      <th>19</th>\n",
              "      <td>0.051424</td>\n",
              "      <td>0.986109</td>\n",
              "      <td>0.079940</td>\n",
              "      <td>0.9762</td>\n",
              "    </tr>\n",
              "    <tr>\n",
              "      <th>20</th>\n",
              "      <td>0.047858</td>\n",
              "      <td>0.987673</td>\n",
              "      <td>0.075722</td>\n",
              "      <td>0.9778</td>\n",
              "    </tr>\n",
              "    <tr>\n",
              "      <th>21</th>\n",
              "      <td>0.044865</td>\n",
              "      <td>0.988491</td>\n",
              "      <td>0.075775</td>\n",
              "      <td>0.9766</td>\n",
              "    </tr>\n",
              "    <tr>\n",
              "      <th>22</th>\n",
              "      <td>0.042594</td>\n",
              "      <td>0.989255</td>\n",
              "      <td>0.074106</td>\n",
              "      <td>0.9784</td>\n",
              "    </tr>\n",
              "    <tr>\n",
              "      <th>23</th>\n",
              "      <td>0.039988</td>\n",
              "      <td>0.990036</td>\n",
              "      <td>0.072869</td>\n",
              "      <td>0.9788</td>\n",
              "    </tr>\n",
              "    <tr>\n",
              "      <th>24</th>\n",
              "      <td>0.037500</td>\n",
              "      <td>0.990200</td>\n",
              "      <td>0.072871</td>\n",
              "      <td>0.9788</td>\n",
              "    </tr>\n",
              "    <tr>\n",
              "      <th>25</th>\n",
              "      <td>0.035548</td>\n",
              "      <td>0.990818</td>\n",
              "      <td>0.074175</td>\n",
              "      <td>0.9790</td>\n",
              "    </tr>\n",
              "    <tr>\n",
              "      <th>26</th>\n",
              "      <td>0.033165</td>\n",
              "      <td>0.992091</td>\n",
              "      <td>0.071345</td>\n",
              "      <td>0.9784</td>\n",
              "    </tr>\n",
              "    <tr>\n",
              "      <th>27</th>\n",
              "      <td>0.031365</td>\n",
              "      <td>0.992709</td>\n",
              "      <td>0.076451</td>\n",
              "      <td>0.9772</td>\n",
              "    </tr>\n",
              "    <tr>\n",
              "      <th>28</th>\n",
              "      <td>0.029620</td>\n",
              "      <td>0.993164</td>\n",
              "      <td>0.072223</td>\n",
              "      <td>0.9786</td>\n",
              "    </tr>\n",
              "    <tr>\n",
              "      <th>29</th>\n",
              "      <td>0.028006</td>\n",
              "      <td>0.993473</td>\n",
              "      <td>0.071552</td>\n",
              "      <td>0.9786</td>\n",
              "    </tr>\n",
              "  </tbody>\n",
              "</table>\n",
              "</div>"
            ],
            "text/plain": [
              "        loss  accuracy  val_loss  val_accuracy\n",
              "0   0.617001  0.842927  0.312035        0.9172\n",
              "1   0.291006  0.916782  0.244482        0.9322\n",
              "2   0.238498  0.932182  0.209518        0.9422\n",
              "3   0.203486  0.942055  0.179475        0.9516\n",
              "4   0.178001  0.949491  0.162277        0.9558\n",
              "5   0.157823  0.955418  0.145904        0.9616\n",
              "6   0.141386  0.959600  0.134535        0.9658\n",
              "7   0.127552  0.963655  0.125461        0.9670\n",
              "8   0.115589  0.967109  0.115578        0.9694\n",
              "9   0.105687  0.969527  0.108792        0.9698\n",
              "10  0.097261  0.972509  0.105055        0.9716\n",
              "11  0.089637  0.974873  0.102568        0.9724\n",
              "12  0.082939  0.976564  0.095293        0.9740\n",
              "13  0.076941  0.978564  0.090351        0.9746\n",
              "14  0.071562  0.979855  0.088379        0.9760\n",
              "15  0.066917  0.981327  0.085690        0.9766\n",
              "16  0.062224  0.982673  0.083579        0.9764\n",
              "17  0.058356  0.984236  0.079144        0.9772\n",
              "18  0.054740  0.985164  0.079341        0.9772\n",
              "19  0.051424  0.986109  0.079940        0.9762\n",
              "20  0.047858  0.987673  0.075722        0.9778\n",
              "21  0.044865  0.988491  0.075775        0.9766\n",
              "22  0.042594  0.989255  0.074106        0.9784\n",
              "23  0.039988  0.990036  0.072869        0.9788\n",
              "24  0.037500  0.990200  0.072871        0.9788\n",
              "25  0.035548  0.990818  0.074175        0.9790\n",
              "26  0.033165  0.992091  0.071345        0.9784\n",
              "27  0.031365  0.992709  0.076451        0.9772\n",
              "28  0.029620  0.993164  0.072223        0.9786\n",
              "29  0.028006  0.993473  0.071552        0.9786"
            ]
          },
          "metadata": {},
          "execution_count": 75
        }
      ]
    },
    {
      "cell_type": "code",
      "metadata": {
        "colab": {
          "base_uri": "https://localhost:8080/",
          "height": 428
        },
        "id": "O6yVIUJ64g9Y",
        "outputId": "d8c5acfd-6fa2-43ac-d75e-5ab29b86b083"
      },
      "source": [
        "pd.DataFrame(history.history).plot(figsize=(10,7))\n",
        "plt.grid(True)\n",
        "plt.show()"
      ],
      "execution_count": 76,
      "outputs": [
        {
          "output_type": "display_data",
          "data": {
            "image/png": "[encoded data removed]",
            "text/plain": [
              "<Figure size 720x504 with 1 Axes>"
            ]
          },
          "metadata": {
            "needs_background": "light"
          }
        }
      ]
    },
    {
      "cell_type": "code",
      "metadata": {
        "colab": {
          "base_uri": "https://localhost:8080/"
        },
        "id": "vwTzn-BH40Hp",
        "outputId": "f74cc296-dff0-4f55-d28d-eeb737e537cd"
      },
      "source": [
        "model_clf.evaluate(X_test,y_test)"
      ],
      "execution_count": 77,
      "outputs": [
        {
          "output_type": "stream",
          "name": "stdout",
          "text": [
            "313/313 [==============================] - 1s 3ms/step - loss: 0.0715 - accuracy: 0.9775\n"
          ]
        },
        {
          "output_type": "execute_result",
          "data": {
            "text/plain": [
              "[0.07153919339179993, 0.9775000214576721]"
            ]
          },
          "metadata": {},
          "execution_count": 77
        }
      ]
    },
    {
      "cell_type": "code",
      "metadata": {
        "colab": {
          "base_uri": "https://localhost:8080/"
        },
        "id": "1NA8JspzMElq",
        "outputId": "84dc55da-b335-493f-d486-95b53678f017"
      },
      "source": [
        "X_new = X_test[:3]\n",
        "\n",
        "y_prob = model_clf.predict(X_new)\n",
        "\n",
        "y_prob.round(3)"
      ],
      "execution_count": 78,
      "outputs": [
        {
          "output_type": "execute_result",
          "data": {
            "text/plain": [
              "array([[0.   , 0.   , 0.   , 0.   , 0.   , 0.   , 0.   , 1.   , 0.   ,\n",
              "        0.   ],\n",
              "       [0.   , 0.   , 1.   , 0.   , 0.   , 0.   , 0.   , 0.   , 0.   ,\n",
              "        0.   ],\n",
              "       [0.   , 0.999, 0.   , 0.   , 0.   , 0.   , 0.   , 0.001, 0.   ,\n",
              "        0.   ]], dtype=float32)"
            ]
          },
          "metadata": {},
          "execution_count": 78
        }
      ]
    },
    {
      "cell_type": "code",
      "metadata": {
        "colab": {
          "base_uri": "https://localhost:8080/"
        },
        "id": "1x_ytSeuMJQo",
        "outputId": "5d16b274-11a3-415f-a3d8-896470547901"
      },
      "source": [
        "y_prob.shape"
      ],
      "execution_count": 79,
      "outputs": [
        {
          "output_type": "execute_result",
          "data": {
            "text/plain": [
              "(3, 10)"
            ]
          },
          "metadata": {},
          "execution_count": 79
        }
      ]
    },
    {
      "cell_type": "code",
      "metadata": {
        "colab": {
          "base_uri": "https://localhost:8080/"
        },
        "id": "awj8yyHBMMq9",
        "outputId": "b0894922-4d1a-442c-b2cd-78dd05bf971e"
      },
      "source": [
        "y_prob"
      ],
      "execution_count": 80,
      "outputs": [
        {
          "output_type": "execute_result",
          "data": {
            "text/plain": [
              "array([[1.1165778e-06, 1.9583736e-08, 3.5137095e-05, 1.0805331e-04,\n",
              "        1.9589375e-08, 9.3466205e-08, 6.0649437e-12, 9.9984467e-01,\n",
              "        3.4383279e-06, 7.4111026e-06],\n",
              "       [2.3019045e-07, 3.3643646e-05, 9.9989522e-01, 6.8646128e-05,\n",
              "        1.1621061e-12, 1.9639123e-07, 5.0933085e-08, 1.1131366e-11,\n",
              "        1.9808158e-06, 6.8420530e-12],\n",
              "       [5.5413329e-07, 9.9864703e-01, 6.6136461e-05, 2.6474207e-05,\n",
              "        8.5032567e-05, 6.7073612e-05, 3.0925486e-05, 7.1063876e-04,\n",
              "        3.5145265e-04, 1.4603110e-05]], dtype=float32)"
            ]
          },
          "metadata": {},
          "execution_count": 80
        }
      ]
    },
    {
      "cell_type": "code",
      "metadata": {
        "colab": {
          "base_uri": "https://localhost:8080/"
        },
        "id": "oVvp0ecOMO5o",
        "outputId": "1556651d-21b0-45e0-9068-037cdd6066b1"
      },
      "source": [
        "Y_pred= np.argmax(y_prob, axis=-1)\n",
        "Y_pred"
      ],
      "execution_count": 81,
      "outputs": [
        {
          "output_type": "execute_result",
          "data": {
            "text/plain": [
              "array([7, 2, 1])"
            ]
          },
          "metadata": {},
          "execution_count": 81
        }
      ]
    },
    {
      "cell_type": "code",
      "metadata": {
        "colab": {
          "base_uri": "https://localhost:8080/",
          "height": 810
        },
        "id": "1X7Qt94YMRcR",
        "outputId": "8107a692-3eb7-428a-8303-e216e076beb2"
      },
      "source": [
        "for img_array, pred, actual in zip(X_new, Y_pred, y_test[:3]):\n",
        "  plt.imshow(img_array, cmap=\"binary\")\n",
        "  plt.title(f\"predicted: {pred}, Actual: {actual}\")\n",
        "  plt.axis(\"off\")\n",
        "  plt.show()\n",
        "  print(\"---\"*10)"
      ],
      "execution_count": 82,
      "outputs": [
        {
          "output_type": "display_data",
          "data": {
            "image/png": "[encoded data removed]",
            "text/plain": [
              "<Figure size 432x288 with 1 Axes>"
            ]
          },
          "metadata": {
            "needs_background": "light"
          }
        },
        {
          "output_type": "stream",
          "name": "stdout",
          "text": [
            "------------------------------\n"
          ]
        },
        {
          "output_type": "display_data",
          "data": {
            "image/png": "[encoded data removed]",
            "text/plain": [
              "<Figure size 432x288 with 1 Axes>"
            ]
          },
          "metadata": {
            "needs_background": "light"
          }
        },
        {
          "output_type": "stream",
          "name": "stdout",
          "text": [
            "------------------------------\n"
          ]
        },
        {
          "output_type": "display_data",
          "data": {
            "image/png": "[encoded data removed]",
            "text/plain": [
              "<Figure size 432x288 with 1 Axes>"
            ]
          },
          "metadata": {
            "needs_background": "light"
          }
        },
        {
          "output_type": "stream",
          "name": "stdout",
          "text": [
            "------------------------------\n"
          ]
        }
      ]
    },
    {
      "cell_type": "code",
      "metadata": {
        "id": "CvEHRachMTfo"
      },
      "source": [
        " "
      ],
      "execution_count": 82,
      "outputs": []
    },
    {
      "cell_type": "code",
      "metadata": {
        "id": "a6J9CoMLel_1"
      },
      "source": [
        ""
      ],
      "execution_count": 82,
      "outputs": []
    }
  ]
}